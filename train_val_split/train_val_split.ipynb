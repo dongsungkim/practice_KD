{
 "cells": [
  {
   "cell_type": "code",
   "execution_count": 3,
   "metadata": {},
   "outputs": [],
   "source": [
    "import numpy as np\n",
    "import pandas as pd\n",
    "from scipy import misc\n",
    "\n",
    "import os\n",
    "import shutil\n",
    "from tqdm import tqdm "
   ]
  },
  {
   "cell_type": "markdown",
   "metadata": {},
   "source": [
    "# Delete rubbish"
   ]
  },
  {
   "cell_type": "code",
   "execution_count": 4,
   "metadata": {},
   "outputs": [],
   "source": [
    "# the folder from 256_ObjectCategories.tar file\n",
    "dir_train = '/home/dongsung/Downloads/caltech-256-image-dataset/256_ObjectCategories'"
   ]
  },
  {
   "cell_type": "code",
   "execution_count": 5,
   "metadata": {},
   "outputs": [],
   "source": [
    "# remove non-images\n",
    "os.remove(os.path.join(dir_train, '198.spider/RENAME2'))\n",
    "shutil.rmtree(os.path.join(dir_train, '056.dog/greg'))\n",
    "# we don't need the class with noise\n",
    "#shutil.rmtree(os.path.join(dir_train, '257.clutter'))"
   ]
  },
  {
   "cell_type": "markdown",
   "metadata": {},
   "source": [
    "# Collect metadata"
   ]
  },
  {
   "cell_type": "code",
   "execution_count": 6,
   "metadata": {
    "scrolled": true
   },
   "outputs": [
    {
     "name": "stderr",
     "output_type": "stream",
     "text": [
      "  0%|          | 0/257 [00:00<?, ?it/s]/home/dongsung/tensorflow_virtualenv/lib/python3.5/site-packages/ipykernel_launcher.py:13: DeprecationWarning: `imread` is deprecated!\n",
      "`imread` is deprecated in SciPy 1.0.0, and will be removed in 1.2.0.\n",
      "Use ``imageio.imread`` instead.\n",
      "  del sys.path[0]\n",
      "100%|██████████| 257/257 [07:52<00:00,  1.89s/it]\n"
     ]
    }
   ],
   "source": [
    "subdirs = list(os.walk(dir_train))[1:]\n",
    "\n",
    "# collect train metadata\n",
    "train_metadata = []\n",
    "\n",
    "for dir_path, _, files in tqdm(subdirs):\n",
    "    \n",
    "    dir_name = dir_path.split('/')[-1]\n",
    "    \n",
    "    for file_name in files:\n",
    "        if not file_name.startswith('.'):\n",
    "            # read image\n",
    "            temp = misc.imread(os.path.join(dir_path, file_name)) \n",
    "            # collect image metadata\n",
    "            image_metadata = []\n",
    "            image_metadata.extend([dir_name, file_name])\n",
    "            image_metadata.extend( \n",
    "                list(temp.shape) if len(temp.shape) == 3 \n",
    "                else [temp.shape[0], temp.shape[1], 1]\n",
    "            )\n",
    "            image_metadata.extend([temp.nbytes, temp.dtype])\n",
    "            # append image metadata to list\n",
    "            train_metadata.append(image_metadata)"
   ]
  },
  {
   "cell_type": "markdown",
   "metadata": {},
   "source": [
    "# Explore metadata"
   ]
  },
  {
   "cell_type": "code",
   "execution_count": 7,
   "metadata": {},
   "outputs": [],
   "source": [
    "M = pd.DataFrame(train_metadata)\n",
    "M.columns = ['directory', 'img_name', 'height', 'width', 'channels', 'byte_size', 'bit_depth']\n",
    "\n",
    "M['category_name'] = M.directory.apply(lambda x: x.split('.')[-1].lower())\n",
    "M['img_extension'] = M.img_name.apply(lambda x: x.split('.')[-1])\n",
    "M['category_number'] = M.directory.apply(lambda x: int(x.split('.')[0]))\n",
    "\n",
    "# remove '101' from some category names\n",
    "M.category_name = M.category_name.apply(lambda x: x[:-4] if '101' in x else x)"
   ]
  },
  {
   "cell_type": "code",
   "execution_count": 8,
   "metadata": {},
   "outputs": [
    {
     "data": {
      "text/plain": [
       "422"
      ]
     },
     "execution_count": 8,
     "metadata": {},
     "output_type": "execute_result"
    }
   ],
   "source": [
    "# number of grayscale images\n",
    "(M.channels != 3).sum()"
   ]
  },
  {
   "cell_type": "code",
   "execution_count": 9,
   "metadata": {},
   "outputs": [
    {
     "data": {
      "text/plain": [
       "array(['jpg'], dtype=object)"
      ]
     },
     "execution_count": 9,
     "metadata": {},
     "output_type": "execute_result"
    }
   ],
   "source": [
    "M.img_extension.unique()"
   ]
  },
  {
   "cell_type": "code",
   "execution_count": 10,
   "metadata": {},
   "outputs": [
    {
     "data": {
      "text/plain": [
       "array([dtype('uint8')], dtype=object)"
      ]
     },
     "execution_count": 10,
     "metadata": {},
     "output_type": "execute_result"
    }
   ],
   "source": [
    "M.bit_depth.unique()"
   ]
  },
  {
   "cell_type": "code",
   "execution_count": 11,
   "metadata": {},
   "outputs": [
    {
     "data": {
      "text/plain": [
       "257"
      ]
     },
     "execution_count": 11,
     "metadata": {},
     "output_type": "execute_result"
    }
   ],
   "source": [
    "# number of categories\n",
    "M.category_name.nunique()"
   ]
  },
  {
   "cell_type": "markdown",
   "metadata": {},
   "source": [
    "# Create decoder"
   ]
  },
  {
   "cell_type": "code",
   "execution_count": 12,
   "metadata": {},
   "outputs": [],
   "source": [
    "# class number -> class name\n",
    "decode = {n: i for i, n in M.groupby('category_name').category_number.first().iteritems()}"
   ]
  },
  {
   "cell_type": "code",
   "execution_count": 13,
   "metadata": {},
   "outputs": [],
   "source": [
    "np.save('decode.npy', decode)"
   ]
  },
  {
   "cell_type": "markdown",
   "metadata": {},
   "source": [
    "# Split data"
   ]
  },
  {
   "cell_type": "code",
   "execution_count": 14,
   "metadata": {},
   "outputs": [],
   "source": [
    "# 20 images per class\n",
    "V = M.groupby('category_name', group_keys=False).apply(lambda x: x.sample(n=20, replace=False))\n",
    "V.sort_index(inplace=True)\n",
    "M.drop(V.index, axis=0, inplace=True)"
   ]
  },
  {
   "cell_type": "code",
   "execution_count": 15,
   "metadata": {},
   "outputs": [
    {
     "data": {
      "text/plain": [
       "25467"
      ]
     },
     "execution_count": 15,
     "metadata": {},
     "output_type": "execute_result"
    }
   ],
   "source": [
    "# train data\n",
    "len(M)"
   ]
  },
  {
   "cell_type": "code",
   "execution_count": 16,
   "metadata": {},
   "outputs": [
    {
     "data": {
      "text/plain": [
       "5140"
      ]
     },
     "execution_count": 16,
     "metadata": {},
     "output_type": "execute_result"
    }
   ],
   "source": [
    "# validation data\n",
    "len(V)"
   ]
  },
  {
   "cell_type": "markdown",
   "metadata": {
    "collapsed": true
   },
   "source": [
    "# Save split"
   ]
  },
  {
   "cell_type": "code",
   "execution_count": 17,
   "metadata": {},
   "outputs": [],
   "source": [
    "M.to_csv('train_metadata.csv', index=False)"
   ]
  },
  {
   "cell_type": "code",
   "execution_count": 18,
   "metadata": {},
   "outputs": [],
   "source": [
    "V.to_csv('val_metadata.csv', index=False)"
   ]
  },
  {
   "cell_type": "code",
   "execution_count": null,
   "metadata": {},
   "outputs": [],
   "source": []
  }
 ],
 "metadata": {
  "kernelspec": {
   "display_name": "Python 3",
   "language": "python",
   "name": "python3"
  },
  "language_info": {
   "codemirror_mode": {
    "name": "ipython",
    "version": 3
   },
   "file_extension": ".py",
   "mimetype": "text/x-python",
   "name": "python",
   "nbconvert_exporter": "python",
   "pygments_lexer": "ipython3",
   "version": "3.5.2"
  }
 },
 "nbformat": 4,
 "nbformat_minor": 2
}
