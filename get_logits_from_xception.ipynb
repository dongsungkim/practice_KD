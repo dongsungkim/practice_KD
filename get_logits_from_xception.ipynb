{
 "cells": [
  {
   "cell_type": "code",
   "execution_count": 1,
   "metadata": {},
   "outputs": [],
   "source": [
    "%load_ext autoreload\n",
    "%autoreload 2"
   ]
  },
  {
   "cell_type": "code",
   "execution_count": 3,
   "metadata": {},
   "outputs": [
    {
     "name": "stderr",
     "output_type": "stream",
     "text": [
      "Using TensorFlow backend.\n"
     ]
    }
   ],
   "source": [
    "import numpy as np\n",
    "from tqdm import tqdm\n",
    "import sys\n",
    "sys.path.append('utils/')\n",
    "\n",
    "# use non standard flow_from_directory\n",
    "from image_preprocessing_ver1 import ImageDataGenerator\n",
    "# it outputs not only x_batch and y_batch but also image names\n",
    "\n",
    "from keras.models import Model\n",
    "from xception import Xception, preprocess_input"
   ]
  },
  {
   "cell_type": "code",
   "execution_count": 4,
   "metadata": {},
   "outputs": [],
   "source": [
    "data_dir = '/home/dongsung/study/machine_learning/distillation/data'"
   ]
  },
  {
   "cell_type": "code",
   "execution_count": 5,
   "metadata": {},
   "outputs": [
    {
     "name": "stdout",
     "output_type": "stream",
     "text": [
      "Found 0 images belonging to 0 classes.\n",
      "Found 0 images belonging to 0 classes.\n"
     ]
    }
   ],
   "source": [
    "data_generator = ImageDataGenerator(\n",
    "    data_format='channels_last',\n",
    "    preprocessing_function=preprocess_input\n",
    ")\n",
    "\n",
    "train_generator = data_generator.flow_from_directory(\n",
    "    data_dir + 'train', \n",
    "    target_size=(299, 299),\n",
    "    batch_size=64, shuffle=False\n",
    ")\n",
    "\n",
    "val_generator = data_generator.flow_from_directory(\n",
    "    data_dir + 'val', \n",
    "    target_size=(299, 299),\n",
    "    batch_size=64, shuffle=False\n",
    ")"
   ]
  },
  {
   "cell_type": "markdown",
   "metadata": {},
   "source": [
    "# Get model and remove the last layer"
   ]
  },
  {
   "cell_type": "code",
   "execution_count": 5,
   "metadata": {
    "collapsed": true
   },
   "outputs": [],
   "source": [
    "model = Xception()\n",
    "model.load_weights('xception_weights.hdf5')\n",
    "# remove softmax\n",
    "model.layers.pop()\n",
    "model = Model(model.input, model.layers[-1].output)\n",
    "# now model outputs logits"
   ]
  },
  {
   "cell_type": "markdown",
   "metadata": {},
   "source": [
    "# Save logits as a dict: image name -> logit (256 dimensional vector)"
   ]
  },
  {
   "cell_type": "code",
   "execution_count": 6,
   "metadata": {},
   "outputs": [
    {
     "name": "stderr",
     "output_type": "stream",
     "text": [
      "399it [04:04,  1.63it/s]"
     ]
    }
   ],
   "source": [
    "batches = 0\n",
    "train_logits = {}\n",
    "\n",
    "for x_batch, _, name_batch in tqdm(train_generator):\n",
    "    \n",
    "    batch_logits = model.predict_on_batch(x_batch)\n",
    "    \n",
    "    for i, n in enumerate(name_batch):\n",
    "        train_logits[n] = batch_logits[i]\n",
    "    \n",
    "    batches += 1\n",
    "    if batches >= 400: # 25600/64\n",
    "        break"
   ]
  },
  {
   "cell_type": "code",
   "execution_count": 7,
   "metadata": {
    "scrolled": false
   },
   "outputs": [
    {
     "name": "stderr",
     "output_type": "stream",
     "text": [
      "\n",
      "0it [00:00, ?it/s]\u001b[A\n",
      "1it [00:00,  1.63it/s]\u001b[A\n",
      "2it [00:01,  1.63it/s]\u001b[A\n",
      "3it [00:01,  1.63it/s]\u001b[A\n",
      "4it [00:02,  1.63it/s]\u001b[A\n",
      "5it [00:03,  1.63it/s]\u001b[A\n",
      "6it [00:03,  1.63it/s]\u001b[A\n",
      "7it [00:04,  1.63it/s]\u001b[A\n",
      "79it [00:48,  1.63it/s]"
     ]
    }
   ],
   "source": [
    "batches = 0\n",
    "val_logits = {}\n",
    "\n",
    "for x_batch, _, name_batch in tqdm(val_generator):\n",
    "    \n",
    "    batch_logits = model.predict_on_batch(x_batch)\n",
    "    \n",
    "    for i, n in enumerate(name_batch):\n",
    "        val_logits[n] = batch_logits[i]\n",
    "    \n",
    "    batches += 1\n",
    "    if batches >= 80: # 5120/64\n",
    "        break"
   ]
  },
  {
   "cell_type": "code",
   "execution_count": 8,
   "metadata": {
    "collapsed": true
   },
   "outputs": [],
   "source": [
    "np.save(data_dir + 'train_logits.npy', train_logits)\n",
    "np.save(data_dir + 'val_logits.npy', val_logits)"
   ]
  }
 ],
 "metadata": {
  "kernelspec": {
   "display_name": "Python 3",
   "language": "python",
   "name": "python3"
  },
  "language_info": {
   "codemirror_mode": {
    "name": "ipython",
    "version": 3
   },
   "file_extension": ".py",
   "mimetype": "text/x-python",
   "name": "python",
   "nbconvert_exporter": "python",
   "pygments_lexer": "ipython3",
   "version": "3.5.2"
  }
 },
 "nbformat": 4,
 "nbformat_minor": 2
}
