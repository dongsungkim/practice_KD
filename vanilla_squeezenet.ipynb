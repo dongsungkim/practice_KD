{
 "cells": [
  {
   "cell_type": "code",
   "execution_count": 1,
   "metadata": {
    "collapsed": true
   },
   "outputs": [],
   "source": [
    "%load_ext autoreload\n",
    "%autoreload 2"
   ]
  },
  {
   "cell_type": "code",
   "execution_count": 2,
   "metadata": {},
   "outputs": [
    {
     "name": "stderr",
     "output_type": "stream",
     "text": [
      "Using TensorFlow backend.\n"
     ]
    }
   ],
   "source": [
    "import keras\n",
    "from keras import optimizers\n",
    "from keras.preprocessing.image import ImageDataGenerator\n",
    "from keras.callbacks import EarlyStopping, ReduceLROnPlateau\n",
    "\n",
    "import matplotlib.pyplot as plt\n",
    "%matplotlib inline\n",
    "\n",
    "from squeezenet import SqueezeNet, preprocess_input"
   ]
  },
  {
   "cell_type": "code",
   "execution_count": 3,
   "metadata": {
    "collapsed": true
   },
   "outputs": [],
   "source": [
    "data_dir = '/home/ubuntu/data/'"
   ]
  },
  {
   "cell_type": "code",
   "execution_count": 4,
   "metadata": {},
   "outputs": [
    {
     "name": "stdout",
     "output_type": "stream",
     "text": [
      "Found 25600 images belonging to 256 classes.\n",
      "Found 5120 images belonging to 256 classes.\n"
     ]
    }
   ],
   "source": [
    "data_generator = ImageDataGenerator(\n",
    "    data_format='channels_last',\n",
    "    preprocessing_function=preprocess_input\n",
    ")\n",
    "\n",
    "train_generator = data_generator.flow_from_directory(\n",
    "    data_dir + 'train', \n",
    "    target_size=(299, 299),\n",
    "    batch_size=64\n",
    ")\n",
    "\n",
    "val_generator = data_generator.flow_from_directory(\n",
    "    data_dir + 'val', shuffle=False,\n",
    "    target_size=(299, 299),\n",
    "    batch_size=64\n",
    ")"
   ]
  },
  {
   "cell_type": "markdown",
   "metadata": {},
   "source": [
    "# Model"
   ]
  },
  {
   "cell_type": "code",
   "execution_count": 5,
   "metadata": {},
   "outputs": [
    {
     "data": {
      "text/plain": [
       "853824"
      ]
     },
     "execution_count": 5,
     "metadata": {},
     "output_type": "execute_result"
    }
   ],
   "source": [
    "model = SqueezeNet(weight_decay=1e-4, image_size=299)\n",
    "model.count_params()"
   ]
  },
  {
   "cell_type": "markdown",
   "metadata": {},
   "source": [
    "# Training"
   ]
  },
  {
   "cell_type": "code",
   "execution_count": 6,
   "metadata": {
    "collapsed": true
   },
   "outputs": [],
   "source": [
    "model.compile(\n",
    "    optimizer=optimizers.SGD(lr=1e-2, momentum=0.9, nesterov=True), \n",
    "    loss='categorical_crossentropy', metrics=['accuracy', 'top_k_categorical_accuracy']\n",
    ")"
   ]
  },
  {
   "cell_type": "code",
   "execution_count": 7,
   "metadata": {
    "scrolled": false
   },
   "outputs": [
    {
     "name": "stdout",
     "output_type": "stream",
     "text": [
      "Epoch 1/30\n",
      "400/400 [==============================] - 36s - loss: 2.3837 - acc: 0.4822 - top_k_categorical_accuracy: 0.7059 - val_loss: 1.8188 - val_acc: 0.5773 - val_top_k_categorical_accuracy: 0.8105\n",
      "Epoch 2/30\n",
      "400/400 [==============================] - 35s - loss: 1.1869 - acc: 0.7113 - top_k_categorical_accuracy: 0.8940 - val_loss: 1.7067 - val_acc: 0.6201 - val_top_k_categorical_accuracy: 0.8400\n",
      "Epoch 3/30\n",
      "400/400 [==============================] - 35s - loss: 0.8814 - acc: 0.7823 - top_k_categorical_accuracy: 0.9320 - val_loss: 1.6830 - val_acc: 0.6330 - val_top_k_categorical_accuracy: 0.8463\n",
      "Epoch 4/30\n",
      "400/400 [==============================] - 35s - loss: 0.7074 - acc: 0.8240 - top_k_categorical_accuracy: 0.9532 - val_loss: 1.6935 - val_acc: 0.6385 - val_top_k_categorical_accuracy: 0.8453\n",
      "Epoch 5/30\n",
      "400/400 [==============================] - 35s - loss: 0.5857 - acc: 0.8561 - top_k_categorical_accuracy: 0.9655 - val_loss: 1.7206 - val_acc: 0.6309 - val_top_k_categorical_accuracy: 0.8533\n",
      "Epoch 6/30\n",
      "400/400 [==============================] - 35s - loss: 0.5124 - acc: 0.8749 - top_k_categorical_accuracy: 0.9740 - val_loss: 1.7514 - val_acc: 0.6336 - val_top_k_categorical_accuracy: 0.8459\n",
      "Epoch 7/30\n",
      "400/400 [==============================] - 35s - loss: 0.3407 - acc: 0.9335 - top_k_categorical_accuracy: 0.9868 - val_loss: 1.5808 - val_acc: 0.6660 - val_top_k_categorical_accuracy: 0.8619\n",
      "Epoch 8/30\n",
      "400/400 [==============================] - 36s - loss: 0.2986 - acc: 0.9481 - top_k_categorical_accuracy: 0.9888 - val_loss: 1.5681 - val_acc: 0.6648 - val_top_k_categorical_accuracy: 0.8637\n",
      "Epoch 9/30\n",
      "400/400 [==============================] - 36s - loss: 0.2862 - acc: 0.9540 - top_k_categorical_accuracy: 0.9891 - val_loss: 1.5635 - val_acc: 0.6674 - val_top_k_categorical_accuracy: 0.8670\n",
      "Epoch 10/30\n",
      "400/400 [==============================] - 36s - loss: 0.2789 - acc: 0.9559 - top_k_categorical_accuracy: 0.9896 - val_loss: 1.5620 - val_acc: 0.6689 - val_top_k_categorical_accuracy: 0.8646\n",
      "Epoch 11/30\n",
      "400/400 [==============================] - 36s - loss: 0.2660 - acc: 0.9611 - top_k_categorical_accuracy: 0.9907 - val_loss: 1.5574 - val_acc: 0.6709 - val_top_k_categorical_accuracy: 0.8654\n",
      "Epoch 12/30\n",
      "400/400 [==============================] - 36s - loss: 0.2645 - acc: 0.9608 - top_k_categorical_accuracy: 0.9913 - val_loss: 1.5712 - val_acc: 0.6693 - val_top_k_categorical_accuracy: 0.8629\n"
     ]
    },
    {
     "data": {
      "text/plain": [
       "<keras.callbacks.History at 0x7f0b0cfaa390>"
      ]
     },
     "execution_count": 7,
     "metadata": {},
     "output_type": "execute_result"
    }
   ],
   "source": [
    "model.fit_generator(\n",
    "    train_generator, \n",
    "    steps_per_epoch=400, epochs=30, verbose=1,\n",
    "    callbacks=[\n",
    "        EarlyStopping(monitor='val_acc', patience=4, min_delta=0.01),\n",
    "        ReduceLROnPlateau(monitor='val_acc', factor=0.1, patience=2, epsilon=0.007)\n",
    "    ],\n",
    "    validation_data=val_generator, validation_steps=80, workers=4\n",
    ")"
   ]
  },
  {
   "cell_type": "markdown",
   "metadata": {},
   "source": [
    "# Loss/epoch plots"
   ]
  },
  {
   "cell_type": "code",
   "execution_count": 8,
   "metadata": {},
   "outputs": [
    {
     "data": {
      "image/png": "[encoded data removed]",
      "text/plain": [
       "<matplotlib.figure.Figure at 0x7f0b0cfc4978>"
      ]
     },
     "metadata": {},
     "output_type": "display_data"
    }
   ],
   "source": [
    "plt.plot(model.history.history['loss'], label='train');\n",
    "plt.plot(model.history.history['val_loss'], label='val');\n",
    "plt.legend();\n",
    "plt.xlabel('epoch');\n",
    "plt.ylabel('logloss');"
   ]
  },
  {
   "cell_type": "code",
   "execution_count": 9,
   "metadata": {},
   "outputs": [
    {
     "data": {
      "image/png": "[encoded data removed]",
      "text/plain": [
       "<matplotlib.figure.Figure at 0x7f0b0cefb208>"
      ]
     },
     "metadata": {},
     "output_type": "display_data"
    }
   ],
   "source": [
    "plt.plot(model.history.history['acc'], label='train');\n",
    "plt.plot(model.history.history['val_acc'], label='val');\n",
    "plt.legend();\n",
    "plt.xlabel('epoch');\n",
    "plt.ylabel('accuracy');"
   ]
  },
  {
   "cell_type": "code",
   "execution_count": 10,
   "metadata": {
    "scrolled": true
   },
   "outputs": [
    {
     "data": {
      "image/png": "[encoded data removed]",
      "text/plain": [
       "<matplotlib.figure.Figure at 0x7f0b0ce56c88>"
      ]
     },
     "metadata": {},
     "output_type": "display_data"
    }
   ],
   "source": [
    "plt.plot(model.history.history['top_k_categorical_accuracy'], label='train');\n",
    "plt.plot(model.history.history['val_top_k_categorical_accuracy'], label='val');\n",
    "plt.legend();\n",
    "plt.xlabel('epoch');\n",
    "plt.ylabel('top5_accuracy');"
   ]
  },
  {
   "cell_type": "markdown",
   "metadata": {},
   "source": [
    "# Results"
   ]
  },
  {
   "cell_type": "code",
   "execution_count": 11,
   "metadata": {},
   "outputs": [
    {
     "data": {
      "text/plain": [
       "[1.5555390566587448, 0.67167968749999996, 0.865234375]"
      ]
     },
     "execution_count": 11,
     "metadata": {},
     "output_type": "execute_result"
    }
   ],
   "source": [
    "model.evaluate_generator(val_generator, 80)"
   ]
  }
 ],
 "metadata": {
  "kernelspec": {
   "display_name": "Python 3",
   "language": "python",
   "name": "python3"
  },
  "language_info": {
   "codemirror_mode": {
    "name": "ipython",
    "version": 3
   },
   "file_extension": ".py",
   "mimetype": "text/x-python",
   "name": "python",
   "nbconvert_exporter": "python",
   "pygments_lexer": "ipython3",
   "version": "3.5.2"
  }
 },
 "nbformat": 4,
 "nbformat_minor": 2
}
